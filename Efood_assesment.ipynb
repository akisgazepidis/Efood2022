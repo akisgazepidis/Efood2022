{
 "cells": [
  {
   "cell_type": "code",
   "execution_count": 99,
   "metadata": {},
   "outputs": [],
   "source": [
    "import pandas as pd\n",
    "import numpy as np\n",
    "from sklearn.decomposition import PCA\n",
    "from sklearn.cluster import KMeans\n",
    "import matplotlib.pyplot as plt\n",
    "%matplotlib inline\n",
    "from matplotlib.pylab import rcParams\n",
    "rcParams[\"figure.figsize\"]= (20,10)\n",
    "pd.set_option('float_format', '{:f}'.format)\n",
    "from tqdm import tqdm\n",
    "tqdm.pandas()\n"
   ]
  },
  {
   "cell_type": "code",
   "execution_count": 66,
   "metadata": {},
   "outputs": [],
   "source": [
    "df = pd.read_csv(\"Assessment exercise dataset - orders.csv\")"
   ]
  },
  {
   "cell_type": "code",
   "execution_count": 67,
   "metadata": {},
   "outputs": [
    {
     "data": {
      "text/html": [
       "<div>\n",
       "<style scoped>\n",
       "    .dataframe tbody tr th:only-of-type {\n",
       "        vertical-align: middle;\n",
       "    }\n",
       "\n",
       "    .dataframe tbody tr th {\n",
       "        vertical-align: top;\n",
       "    }\n",
       "\n",
       "    .dataframe thead th {\n",
       "        text-align: right;\n",
       "    }\n",
       "</style>\n",
       "<table border=\"1\" class=\"dataframe\">\n",
       "  <thead>\n",
       "    <tr style=\"text-align: right;\">\n",
       "      <th></th>\n",
       "      <th>order_id</th>\n",
       "      <th>user_id</th>\n",
       "      <th>order_timestamp</th>\n",
       "      <th>city</th>\n",
       "      <th>cuisine</th>\n",
       "      <th>paid_cash</th>\n",
       "      <th>amount</th>\n",
       "    </tr>\n",
       "  </thead>\n",
       "  <tbody>\n",
       "    <tr>\n",
       "      <th>0</th>\n",
       "      <td>7322173742136</td>\n",
       "      <td>94223136441</td>\n",
       "      <td>2022-01-18 15:41:28 UTC</td>\n",
       "      <td>Αίγιο</td>\n",
       "      <td>Breakfast</td>\n",
       "      <td>True</td>\n",
       "      <td>3.600000</td>\n",
       "    </tr>\n",
       "    <tr>\n",
       "      <th>1</th>\n",
       "      <td>7210978616924</td>\n",
       "      <td>204794985423</td>\n",
       "      <td>2022-01-02 17:50:50 UTC</td>\n",
       "      <td>Αγρίνιο</td>\n",
       "      <td>Breakfast</td>\n",
       "      <td>True</td>\n",
       "      <td>1.900000</td>\n",
       "    </tr>\n",
       "    <tr>\n",
       "      <th>2</th>\n",
       "      <td>7221232906132</td>\n",
       "      <td>12703920390</td>\n",
       "      <td>2022-01-04 08:37:12 UTC</td>\n",
       "      <td>Αγρίνιο</td>\n",
       "      <td>Breakfast</td>\n",
       "      <td>True</td>\n",
       "      <td>1.700000</td>\n",
       "    </tr>\n",
       "    <tr>\n",
       "      <th>3</th>\n",
       "      <td>7399605199800</td>\n",
       "      <td>673310109528</td>\n",
       "      <td>2022-01-31 11:33:05 UTC</td>\n",
       "      <td>Λιβαδειά</td>\n",
       "      <td>Breakfast</td>\n",
       "      <td>True</td>\n",
       "      <td>3.000000</td>\n",
       "    </tr>\n",
       "    <tr>\n",
       "      <th>4</th>\n",
       "      <td>7264221279744</td>\n",
       "      <td>673310109528</td>\n",
       "      <td>2022-01-10 11:18:28 UTC</td>\n",
       "      <td>Λιβαδειά</td>\n",
       "      <td>Breakfast</td>\n",
       "      <td>True</td>\n",
       "      <td>3.000000</td>\n",
       "    </tr>\n",
       "  </tbody>\n",
       "</table>\n",
       "</div>"
      ],
      "text/plain": [
       "        order_id       user_id          order_timestamp      city    cuisine  \\\n",
       "0  7322173742136   94223136441  2022-01-18 15:41:28 UTC     Αίγιο  Breakfast   \n",
       "1  7210978616924  204794985423  2022-01-02 17:50:50 UTC   Αγρίνιο  Breakfast   \n",
       "2  7221232906132   12703920390  2022-01-04 08:37:12 UTC   Αγρίνιο  Breakfast   \n",
       "3  7399605199800  673310109528  2022-01-31 11:33:05 UTC  Λιβαδειά  Breakfast   \n",
       "4  7264221279744  673310109528  2022-01-10 11:18:28 UTC  Λιβαδειά  Breakfast   \n",
       "\n",
       "   paid_cash   amount  \n",
       "0       True 3.600000  \n",
       "1       True 1.900000  \n",
       "2       True 1.700000  \n",
       "3       True 3.000000  \n",
       "4       True 3.000000  "
      ]
     },
     "execution_count": 67,
     "metadata": {},
     "output_type": "execute_result"
    }
   ],
   "source": [
    "df.head()"
   ]
  },
  {
   "cell_type": "code",
   "execution_count": 68,
   "metadata": {},
   "outputs": [
    {
     "name": "stdout",
     "output_type": "stream",
     "text": [
      "(534270, 7)\n",
      "                  order_id             user_id        amount\n",
      "count        534270.000000       534270.000000 534270.000000\n",
      "mean  7308039168817.732422 305801389311.825989      8.522366\n",
      "std     59032774955.155800 207703286609.478973      6.095029\n",
      "min   7202715412520.000000     44118921.000000      0.400000\n",
      "25%   7256096415925.000000 133336177170.000000      4.600000\n",
      "50%   7310697147038.000000 255130792854.000000      6.700000\n",
      "75%   7363636720530.000000 517421918391.000000     10.800000\n",
      "max   7404766224920.000000 685567924230.000000    204.800000\n"
     ]
    }
   ],
   "source": [
    "print(df.shape)\n",
    "print(df.describe())"
   ]
  },
  {
   "cell_type": "code",
   "execution_count": 69,
   "metadata": {},
   "outputs": [
    {
     "data": {
      "text/plain": [
       "order_id            object\n",
       "user_id             object\n",
       "order_timestamp     object\n",
       "city                object\n",
       "cuisine             object\n",
       "paid_cash             bool\n",
       "amount             float64\n",
       "dtype: object"
      ]
     },
     "execution_count": 69,
     "metadata": {},
     "output_type": "execute_result"
    }
   ],
   "source": [
    "df['order_id'] = df['order_id'].astype(\"str\")\n",
    "df['user_id'] = df['user_id'].astype(\"str\")\n",
    "df.dtypes"
   ]
  },
  {
   "cell_type": "code",
   "execution_count": 70,
   "metadata": {},
   "outputs": [
    {
     "data": {
      "text/html": [
       "<div>\n",
       "<style scoped>\n",
       "    .dataframe tbody tr th:only-of-type {\n",
       "        vertical-align: middle;\n",
       "    }\n",
       "\n",
       "    .dataframe tbody tr th {\n",
       "        vertical-align: top;\n",
       "    }\n",
       "\n",
       "    .dataframe thead th {\n",
       "        text-align: right;\n",
       "    }\n",
       "</style>\n",
       "<table border=\"1\" class=\"dataframe\">\n",
       "  <thead>\n",
       "    <tr style=\"text-align: right;\">\n",
       "      <th></th>\n",
       "      <th>cuisine</th>\n",
       "      <th>percentages</th>\n",
       "    </tr>\n",
       "  </thead>\n",
       "  <tbody>\n",
       "    <tr>\n",
       "      <th>0</th>\n",
       "      <td>Breakfast</td>\n",
       "      <td>0.389247</td>\n",
       "    </tr>\n",
       "    <tr>\n",
       "      <th>1</th>\n",
       "      <td>Meat</td>\n",
       "      <td>0.343128</td>\n",
       "    </tr>\n",
       "    <tr>\n",
       "      <th>2</th>\n",
       "      <td>Italian</td>\n",
       "      <td>0.169908</td>\n",
       "    </tr>\n",
       "    <tr>\n",
       "      <th>3</th>\n",
       "      <td>Street food</td>\n",
       "      <td>0.097717</td>\n",
       "    </tr>\n",
       "  </tbody>\n",
       "</table>\n",
       "</div>"
      ],
      "text/plain": [
       "       cuisine  percentages\n",
       "0    Breakfast     0.389247\n",
       "1         Meat     0.343128\n",
       "2      Italian     0.169908\n",
       "3  Street food     0.097717"
      ]
     },
     "execution_count": 70,
     "metadata": {},
     "output_type": "execute_result"
    }
   ],
   "source": [
    "df_Breakfast_or_not  = pd.DataFrame(df.cuisine.value_counts()/df.shape[0]).reset_index().rename(columns={\"index\":'cuisine', \"cuisine\":'percentages'})\n",
    "df_Breakfast_or_not"
   ]
  },
  {
   "attachments": {},
   "cell_type": "markdown",
   "metadata": {},
   "source": [
    "## All meal customers"
   ]
  },
  {
   "cell_type": "code",
   "execution_count": 126,
   "metadata": {},
   "outputs": [
    {
     "data": {
      "text/html": [
       "<div>\n",
       "<style scoped>\n",
       "    .dataframe tbody tr th:only-of-type {\n",
       "        vertical-align: middle;\n",
       "    }\n",
       "\n",
       "    .dataframe tbody tr th {\n",
       "        vertical-align: top;\n",
       "    }\n",
       "\n",
       "    .dataframe thead th {\n",
       "        text-align: right;\n",
       "    }\n",
       "</style>\n",
       "<table border=\"1\" class=\"dataframe\">\n",
       "  <thead>\n",
       "    <tr style=\"text-align: right;\">\n",
       "      <th></th>\n",
       "      <th>user_id</th>\n",
       "      <th>order_id</th>\n",
       "      <th>amount</th>\n",
       "      <th>amount_per_order</th>\n",
       "    </tr>\n",
       "  </thead>\n",
       "  <tbody>\n",
       "    <tr>\n",
       "      <th>0</th>\n",
       "      <td>100001680044</td>\n",
       "      <td>8</td>\n",
       "      <td>66.300000</td>\n",
       "      <td>8.287500</td>\n",
       "    </tr>\n",
       "    <tr>\n",
       "      <th>1</th>\n",
       "      <td>100005820236</td>\n",
       "      <td>1</td>\n",
       "      <td>8.700000</td>\n",
       "      <td>8.700000</td>\n",
       "    </tr>\n",
       "    <tr>\n",
       "      <th>2</th>\n",
       "      <td>100008019713</td>\n",
       "      <td>2</td>\n",
       "      <td>46.100000</td>\n",
       "      <td>23.050000</td>\n",
       "    </tr>\n",
       "    <tr>\n",
       "      <th>3</th>\n",
       "      <td>100009701666</td>\n",
       "      <td>3</td>\n",
       "      <td>23.000000</td>\n",
       "      <td>7.666667</td>\n",
       "    </tr>\n",
       "    <tr>\n",
       "      <th>4</th>\n",
       "      <td>100015523811</td>\n",
       "      <td>2</td>\n",
       "      <td>14.300000</td>\n",
       "      <td>7.150000</td>\n",
       "    </tr>\n",
       "  </tbody>\n",
       "</table>\n",
       "</div>"
      ],
      "text/plain": [
       "        user_id  order_id    amount  amount_per_order\n",
       "0  100001680044         8 66.300000          8.287500\n",
       "1  100005820236         1  8.700000          8.700000\n",
       "2  100008019713         2 46.100000         23.050000\n",
       "3  100009701666         3 23.000000          7.666667\n",
       "4  100015523811         2 14.300000          7.150000"
      ]
     },
     "execution_count": 126,
     "metadata": {},
     "output_type": "execute_result"
    }
   ],
   "source": [
    "df_groupedby_user = df.groupby('user_id').agg({'order_id': \"count\",\n",
    "                             'amount': 'sum'}).reset_index(drop=False)\n",
    "                             \n",
    "df_groupedby_user['amount_per_order'] = df_groupedby_user.amount/df_groupedby_user.order_id\n",
    "\n",
    "df_groupedby_user.sort_values(['order_id', 'amount'], \n",
    "                                ascending= [False, False],\n",
    "                                #inplace=True\n",
    "                                )\n",
    "df_groupedby_user.head()"
   ]
  },
  {
   "attachments": {},
   "cell_type": "markdown",
   "metadata": {},
   "source": [
    "## Clustering Analysis"
   ]
  },
  {
   "cell_type": "code",
   "execution_count": 76,
   "metadata": {},
   "outputs": [],
   "source": [
    "df_groupedby_user_noID = df_groupedby_user.drop('user_id', axis=1) # Drop user_id for clustering analysis"
   ]
  },
  {
   "cell_type": "code",
   "execution_count": 77,
   "metadata": {},
   "outputs": [],
   "source": [
    "'''\n",
    "Compute sum of squared errors for a range of clusters.\n",
    "'''\n",
    "sse = []\n",
    "k_rng = range(1,8)\n",
    "for k in k_rng:\n",
    "    km = KMeans(n_clusters=k)\n",
    "    km.fit(df_groupedby_user_noID)\n",
    "    sse.append(km.inertia_)"
   ]
  },
  {
   "cell_type": "code",
   "execution_count": 80,
   "metadata": {},
   "outputs": [
    {
     "data": {
      "image/png": "[encoded data removed]",
      "text/plain": [
       "<Figure size 1440x720 with 1 Axes>"
      ]
     },
     "metadata": {
      "needs_background": "dark"
     },
     "output_type": "display_data"
    }
   ],
   "source": [
    "'''\n",
    "Visualize Elbow graph and decide about possible number of clusters.\n",
    "'''\n",
    "plt.title('Elbow', color='w', size=30)\n",
    "plt.xlabel('K', color='w', size=30)\n",
    "plt.ylabel('Sum of squared error', color='w', size=30)\n",
    "plt.xticks(color='w', size=20)\n",
    "plt.yticks(color='w', size=20)\n",
    "plt.plot(k_rng,sse)\n",
    "plt.show()"
   ]
  },
  {
   "cell_type": "code",
   "execution_count": 81,
   "metadata": {},
   "outputs": [],
   "source": [
    "'''\n",
    "I Decided to use three clusters and first i will conduct\n",
    "the clustering with kmeans method and then pca for 2d visualization.\n",
    "'''\n",
    "km = KMeans(n_clusters=3)\n",
    "y_predicted = km.fit_predict(df_groupedby_user_noID)"
   ]
  },
  {
   "cell_type": "code",
   "execution_count": 82,
   "metadata": {},
   "outputs": [],
   "source": [
    "pca = PCA(n_components=2)\n",
    "pca_trans = pca.fit_transform(df_groupedby_user_noID)\n",
    "pca_trans_df = pd.DataFrame(pca_trans)"
   ]
  },
  {
   "cell_type": "code",
   "execution_count": 125,
   "metadata": {},
   "outputs": [
    {
     "data": {
      "text/html": [
       "<div>\n",
       "<style scoped>\n",
       "    .dataframe tbody tr th:only-of-type {\n",
       "        vertical-align: middle;\n",
       "    }\n",
       "\n",
       "    .dataframe tbody tr th {\n",
       "        vertical-align: top;\n",
       "    }\n",
       "\n",
       "    .dataframe thead th {\n",
       "        text-align: right;\n",
       "    }\n",
       "</style>\n",
       "<table border=\"1\" class=\"dataframe\">\n",
       "  <thead>\n",
       "    <tr style=\"text-align: right;\">\n",
       "      <th></th>\n",
       "      <th>0</th>\n",
       "      <th>1</th>\n",
       "      <th>cluster</th>\n",
       "      <th>user_id</th>\n",
       "    </tr>\n",
       "  </thead>\n",
       "  <tbody>\n",
       "    <tr>\n",
       "      <th>0</th>\n",
       "      <td>29.138398</td>\n",
       "      <td>-2.333738</td>\n",
       "      <td>0</td>\n",
       "      <td>100001680044</td>\n",
       "    </tr>\n",
       "    <tr>\n",
       "      <th>1</th>\n",
       "      <td>-28.857400</td>\n",
       "      <td>-0.489662</td>\n",
       "      <td>2</td>\n",
       "      <td>100005820236</td>\n",
       "    </tr>\n",
       "    <tr>\n",
       "      <th>2</th>\n",
       "      <td>8.739610</td>\n",
       "      <td>13.267642</td>\n",
       "      <td>2</td>\n",
       "      <td>100008019713</td>\n",
       "    </tr>\n",
       "    <tr>\n",
       "      <th>3</th>\n",
       "      <td>-14.451393</td>\n",
       "      <td>-1.912135</td>\n",
       "      <td>2</td>\n",
       "      <td>100009701666</td>\n",
       "    </tr>\n",
       "    <tr>\n",
       "      <th>4</th>\n",
       "      <td>-23.217765</td>\n",
       "      <td>-2.197860</td>\n",
       "      <td>2</td>\n",
       "      <td>100015523811</td>\n",
       "    </tr>\n",
       "  </tbody>\n",
       "</table>\n",
       "</div>"
      ],
      "text/plain": [
       "           0         1  cluster       user_id\n",
       "0  29.138398 -2.333738        0  100001680044\n",
       "1 -28.857400 -0.489662        2  100005820236\n",
       "2   8.739610 13.267642        2  100008019713\n",
       "3 -14.451393 -1.912135        2  100009701666\n",
       "4 -23.217765 -2.197860        2  100015523811"
      ]
     },
     "execution_count": 125,
     "metadata": {},
     "output_type": "execute_result"
    }
   ],
   "source": [
    "pca_trans_df['cluster']=y_predicted\n",
    "pca_trans_df['user_id']=df_groupedby_user.user_id\n",
    "pca_trans_df.head()"
   ]
  },
  {
   "cell_type": "code",
   "execution_count": 87,
   "metadata": {},
   "outputs": [],
   "source": [
    "merged_df = pca_trans_df.merge(df_groupedby_user, on='user_id')"
   ]
  },
  {
   "cell_type": "code",
   "execution_count": 127,
   "metadata": {},
   "outputs": [
    {
     "data": {
      "text/html": [
       "<div>\n",
       "<style scoped>\n",
       "    .dataframe tbody tr th:only-of-type {\n",
       "        vertical-align: middle;\n",
       "    }\n",
       "\n",
       "    .dataframe tbody tr th {\n",
       "        vertical-align: top;\n",
       "    }\n",
       "\n",
       "    .dataframe thead th {\n",
       "        text-align: right;\n",
       "    }\n",
       "</style>\n",
       "<table border=\"1\" class=\"dataframe\">\n",
       "  <thead>\n",
       "    <tr style=\"text-align: right;\">\n",
       "      <th></th>\n",
       "      <th>0</th>\n",
       "      <th>1</th>\n",
       "      <th>cluster</th>\n",
       "      <th>user_id</th>\n",
       "      <th>order_id</th>\n",
       "      <th>amount</th>\n",
       "      <th>amount_per_order</th>\n",
       "      <th>comb</th>\n",
       "    </tr>\n",
       "  </thead>\n",
       "  <tbody>\n",
       "    <tr>\n",
       "      <th>0</th>\n",
       "      <td>29.138398</td>\n",
       "      <td>-2.333738</td>\n",
       "      <td>0</td>\n",
       "      <td>100001680044</td>\n",
       "      <td>8</td>\n",
       "      <td>66.300000</td>\n",
       "      <td>8.287500</td>\n",
       "      <td>Cluster order counts mean: 8.498, Cluster amou...</td>\n",
       "    </tr>\n",
       "    <tr>\n",
       "      <th>1</th>\n",
       "      <td>-28.857400</td>\n",
       "      <td>-0.489662</td>\n",
       "      <td>2</td>\n",
       "      <td>100005820236</td>\n",
       "      <td>1</td>\n",
       "      <td>8.700000</td>\n",
       "      <td>8.700000</td>\n",
       "      <td>Cluster order counts mean: 2.324, Cluster amou...</td>\n",
       "    </tr>\n",
       "    <tr>\n",
       "      <th>2</th>\n",
       "      <td>8.739610</td>\n",
       "      <td>13.267642</td>\n",
       "      <td>2</td>\n",
       "      <td>100008019713</td>\n",
       "      <td>2</td>\n",
       "      <td>46.100000</td>\n",
       "      <td>23.050000</td>\n",
       "      <td>Cluster order counts mean: 2.324, Cluster amou...</td>\n",
       "    </tr>\n",
       "    <tr>\n",
       "      <th>3</th>\n",
       "      <td>-14.451393</td>\n",
       "      <td>-1.912135</td>\n",
       "      <td>2</td>\n",
       "      <td>100009701666</td>\n",
       "      <td>3</td>\n",
       "      <td>23.000000</td>\n",
       "      <td>7.666667</td>\n",
       "      <td>Cluster order counts mean: 2.324, Cluster amou...</td>\n",
       "    </tr>\n",
       "    <tr>\n",
       "      <th>4</th>\n",
       "      <td>-23.217765</td>\n",
       "      <td>-2.197860</td>\n",
       "      <td>2</td>\n",
       "      <td>100015523811</td>\n",
       "      <td>2</td>\n",
       "      <td>14.300000</td>\n",
       "      <td>7.150000</td>\n",
       "      <td>Cluster order counts mean: 2.324, Cluster amou...</td>\n",
       "    </tr>\n",
       "  </tbody>\n",
       "</table>\n",
       "</div>"
      ],
      "text/plain": [
       "           0         1  cluster       user_id  order_id    amount  \\\n",
       "0  29.138398 -2.333738        0  100001680044         8 66.300000   \n",
       "1 -28.857400 -0.489662        2  100005820236         1  8.700000   \n",
       "2   8.739610 13.267642        2  100008019713         2 46.100000   \n",
       "3 -14.451393 -1.912135        2  100009701666         3 23.000000   \n",
       "4 -23.217765 -2.197860        2  100015523811         2 14.300000   \n",
       "\n",
       "   amount_per_order                                               comb  \n",
       "0          8.287500  Cluster order counts mean: 8.498, Cluster amou...  \n",
       "1          8.700000  Cluster order counts mean: 2.324, Cluster amou...  \n",
       "2         23.050000  Cluster order counts mean: 2.324, Cluster amou...  \n",
       "3          7.666667  Cluster order counts mean: 2.324, Cluster amou...  \n",
       "4          7.150000  Cluster order counts mean: 2.324, Cluster amou...  "
      ]
     },
     "execution_count": 127,
     "metadata": {},
     "output_type": "execute_result"
    }
   ],
   "source": [
    "merged_df.head()"
   ]
  },
  {
   "cell_type": "code",
   "execution_count": 119,
   "metadata": {},
   "outputs": [],
   "source": [
    "def comb(var):\n",
    "    '''\n",
    "    Conduct a simple topic modeling for my clusters.\n",
    "    Compute the mean of the order counts, amount and amount_per_order per cluster of each customer. \n",
    "    '''\n",
    "    temp_df  = merged_df[merged_df.cluster == var]\n",
    "    order_counts_clst = round(temp_df['order_id'].mean(),3)\n",
    "    amount_clst = round(temp_df['amount'].mean(),3)\n",
    "    amount_per_order_clst = round(temp_df['amount_per_order'].mean(),3)\n",
    "    comb = 'Cluster order counts mean: '+str(order_counts_clst)+ ', ' + 'Cluster amount mean: '+str(amount_clst)+ ', ' + 'Cluster amount_per_order mean: '+str(amount_per_order_clst)\n",
    "    return comb"
   ]
  },
  {
   "cell_type": "code",
   "execution_count": 120,
   "metadata": {},
   "outputs": [
    {
     "name": "stderr",
     "output_type": "stream",
     "text": [
      "100%|██████████| 121943/121943 [17:31<00:00, 116.00it/s]\n"
     ]
    }
   ],
   "source": [
    "merged_df['comb'] = merged_df['cluster'].progress_apply(lambda x: comb(x))"
   ]
  },
  {
   "cell_type": "code",
   "execution_count": 156,
   "metadata": {},
   "outputs": [
    {
     "name": "stdout",
     "output_type": "stream",
     "text": [
      "Average type customers:  0.21857753212566527\n",
      "VIP customers:  0.03864100440369681\n",
      "Low spend customers:  0.7427814634706379\n",
      "Cluster order counts mean: 8.498, Cluster amount mean: 73.743, Cluster amount_per_order mean: 11.156\n",
      "Cluster order counts mean: 20.631, Cluster amount mean: 185.017, Cluster amount_per_order mean: 11.062\n",
      "Cluster order counts mean: 2.324, Cluster amount mean: 18.944, Cluster amount_per_order mean: 9.542\n"
     ]
    }
   ],
   "source": [
    "print(\"Average type customers: \", merged_df[merged_df.cluster ==0].shape[0]/merged_df.shape[0])\n",
    "print(\"VIP customers: \", merged_df[merged_df.cluster ==1].shape[0]/merged_df.shape[0])\n",
    "print(\"Low spend customers: \",merged_df[merged_df.cluster ==2].shape[0]/merged_df.shape[0])\n",
    "print(merged_df.comb[121938])\n",
    "print(merged_df.comb[121940])\n",
    "print(merged_df.comb[121942])"
   ]
  },
  {
   "cell_type": "code",
   "execution_count": 153,
   "metadata": {},
   "outputs": [],
   "source": [
    "def cluster_naming(x):\n",
    "    if x== 0:\n",
    "        return \"Average type customers\"\n",
    "    elif x == 1:\n",
    "        return \"VIP customers\"\n",
    "    else:\n",
    "        return \"Low spend customers\""
   ]
  },
  {
   "cell_type": "code",
   "execution_count": 154,
   "metadata": {},
   "outputs": [
    {
     "name": "stderr",
     "output_type": "stream",
     "text": [
      "100%|██████████| 121943/121943 [00:00<00:00, 799145.67it/s]\n"
     ]
    }
   ],
   "source": [
    "merged_df['cluster_name'] = merged_df['cluster'].progress_apply(lambda x: cluster_naming(x))"
   ]
  },
  {
   "cell_type": "code",
   "execution_count": 157,
   "metadata": {},
   "outputs": [
    {
     "data": {
      "text/html": [
       "<div>\n",
       "<style scoped>\n",
       "    .dataframe tbody tr th:only-of-type {\n",
       "        vertical-align: middle;\n",
       "    }\n",
       "\n",
       "    .dataframe tbody tr th {\n",
       "        vertical-align: top;\n",
       "    }\n",
       "\n",
       "    .dataframe thead th {\n",
       "        text-align: right;\n",
       "    }\n",
       "</style>\n",
       "<table border=\"1\" class=\"dataframe\">\n",
       "  <thead>\n",
       "    <tr style=\"text-align: right;\">\n",
       "      <th></th>\n",
       "      <th>0</th>\n",
       "      <th>1</th>\n",
       "      <th>cluster</th>\n",
       "      <th>user_id</th>\n",
       "      <th>order_id</th>\n",
       "      <th>amount</th>\n",
       "      <th>amount_per_order</th>\n",
       "      <th>comb</th>\n",
       "      <th>cluster_name</th>\n",
       "    </tr>\n",
       "  </thead>\n",
       "  <tbody>\n",
       "    <tr>\n",
       "      <th>121938</th>\n",
       "      <td>43.613898</td>\n",
       "      <td>1.310974</td>\n",
       "      <td>0</td>\n",
       "      <td>99977097654</td>\n",
       "      <td>7</td>\n",
       "      <td>80.900000</td>\n",
       "      <td>11.557143</td>\n",
       "      <td>Cluster order counts mean: 8.498, Cluster amou...</td>\n",
       "      <td>Average type customers</td>\n",
       "    </tr>\n",
       "    <tr>\n",
       "      <th>121939</th>\n",
       "      <td>43.146382</td>\n",
       "      <td>-7.284660</td>\n",
       "      <td>0</td>\n",
       "      <td>99984731133</td>\n",
       "      <td>15</td>\n",
       "      <td>79.700000</td>\n",
       "      <td>5.313333</td>\n",
       "      <td>Cluster order counts mean: 8.498, Cluster amou...</td>\n",
       "      <td>Average type customers</td>\n",
       "    </tr>\n",
       "    <tr>\n",
       "      <th>121940</th>\n",
       "      <td>128.656179</td>\n",
       "      <td>4.621494</td>\n",
       "      <td>1</td>\n",
       "      <td>99988741944</td>\n",
       "      <td>11</td>\n",
       "      <td>165.950000</td>\n",
       "      <td>15.086364</td>\n",
       "      <td>Cluster order counts mean: 20.631, Cluster amo...</td>\n",
       "      <td>VIP customers</td>\n",
       "    </tr>\n",
       "    <tr>\n",
       "      <th>121941</th>\n",
       "      <td>20.267963</td>\n",
       "      <td>-3.520921</td>\n",
       "      <td>0</td>\n",
       "      <td>99990553278</td>\n",
       "      <td>8</td>\n",
       "      <td>57.400000</td>\n",
       "      <td>7.175000</td>\n",
       "      <td>Cluster order counts mean: 8.498, Cluster amou...</td>\n",
       "      <td>Average type customers</td>\n",
       "    </tr>\n",
       "    <tr>\n",
       "      <th>121942</th>\n",
       "      <td>-23.117270</td>\n",
       "      <td>-2.149226</td>\n",
       "      <td>2</td>\n",
       "      <td>99999868710</td>\n",
       "      <td>2</td>\n",
       "      <td>14.400000</td>\n",
       "      <td>7.200000</td>\n",
       "      <td>Cluster order counts mean: 2.324, Cluster amou...</td>\n",
       "      <td>Low spend customers</td>\n",
       "    </tr>\n",
       "  </tbody>\n",
       "</table>\n",
       "</div>"
      ],
      "text/plain": [
       "                0         1  cluster      user_id  order_id     amount  \\\n",
       "121938  43.613898  1.310974        0  99977097654         7  80.900000   \n",
       "121939  43.146382 -7.284660        0  99984731133        15  79.700000   \n",
       "121940 128.656179  4.621494        1  99988741944        11 165.950000   \n",
       "121941  20.267963 -3.520921        0  99990553278         8  57.400000   \n",
       "121942 -23.117270 -2.149226        2  99999868710         2  14.400000   \n",
       "\n",
       "        amount_per_order                                               comb  \\\n",
       "121938         11.557143  Cluster order counts mean: 8.498, Cluster amou...   \n",
       "121939          5.313333  Cluster order counts mean: 8.498, Cluster amou...   \n",
       "121940         15.086364  Cluster order counts mean: 20.631, Cluster amo...   \n",
       "121941          7.175000  Cluster order counts mean: 8.498, Cluster amou...   \n",
       "121942          7.200000  Cluster order counts mean: 2.324, Cluster amou...   \n",
       "\n",
       "                  cluster_name  \n",
       "121938  Average type customers  \n",
       "121939  Average type customers  \n",
       "121940           VIP customers  \n",
       "121941  Average type customers  \n",
       "121942     Low spend customers  "
      ]
     },
     "execution_count": 157,
     "metadata": {},
     "output_type": "execute_result"
    }
   ],
   "source": [
    "merged_df.tail()"
   ]
  },
  {
   "cell_type": "code",
   "execution_count": 173,
   "metadata": {},
   "outputs": [],
   "source": [
    "clustering_names_perc  = (merged_df.groupby(\"cluster_name\").count()[[\"user_id\"]]/merged_df.shape[0]).reset_index()\\\n"
   ]
  },
  {
   "cell_type": "code",
   "execution_count": 179,
   "metadata": {},
   "outputs": [],
   "source": [
    "clustering_names_perc = clustering_names_perc.rename(columns={\"user_id\":\"cluster_percentages\"})"
   ]
  },
  {
   "cell_type": "code",
   "execution_count": 180,
   "metadata": {},
   "outputs": [
    {
     "data": {
      "text/html": [
       "<div>\n",
       "<style scoped>\n",
       "    .dataframe tbody tr th:only-of-type {\n",
       "        vertical-align: middle;\n",
       "    }\n",
       "\n",
       "    .dataframe tbody tr th {\n",
       "        vertical-align: top;\n",
       "    }\n",
       "\n",
       "    .dataframe thead th {\n",
       "        text-align: right;\n",
       "    }\n",
       "</style>\n",
       "<table border=\"1\" class=\"dataframe\">\n",
       "  <thead>\n",
       "    <tr style=\"text-align: right;\">\n",
       "      <th></th>\n",
       "      <th>cluster_name</th>\n",
       "      <th>cluster_percentages</th>\n",
       "    </tr>\n",
       "  </thead>\n",
       "  <tbody>\n",
       "    <tr>\n",
       "      <th>0</th>\n",
       "      <td>Average type customers</td>\n",
       "      <td>0.218578</td>\n",
       "    </tr>\n",
       "    <tr>\n",
       "      <th>1</th>\n",
       "      <td>Low spend customers</td>\n",
       "      <td>0.742781</td>\n",
       "    </tr>\n",
       "    <tr>\n",
       "      <th>2</th>\n",
       "      <td>VIP customers</td>\n",
       "      <td>0.038641</td>\n",
       "    </tr>\n",
       "  </tbody>\n",
       "</table>\n",
       "</div>"
      ],
      "text/plain": [
       "             cluster_name  cluster_percentages\n",
       "0  Average type customers             0.218578\n",
       "1     Low spend customers             0.742781\n",
       "2           VIP customers             0.038641"
      ]
     },
     "execution_count": 180,
     "metadata": {},
     "output_type": "execute_result"
    }
   ],
   "source": [
    "clustering_names_perc"
   ]
  },
  {
   "cell_type": "code",
   "execution_count": 158,
   "metadata": {},
   "outputs": [],
   "source": [
    "merged_df.to_csv(\"customer_clustering_analysis.csv\", index=False) # Save dataframe to use it to streamlit"
   ]
  },
  {
   "attachments": {},
   "cell_type": "markdown",
   "metadata": {},
   "source": [
    "## Breakfast Customers"
   ]
  },
  {
   "cell_type": "code",
   "execution_count": 130,
   "metadata": {},
   "outputs": [
    {
     "data": {
      "text/html": [
       "<div>\n",
       "<style scoped>\n",
       "    .dataframe tbody tr th:only-of-type {\n",
       "        vertical-align: middle;\n",
       "    }\n",
       "\n",
       "    .dataframe tbody tr th {\n",
       "        vertical-align: top;\n",
       "    }\n",
       "\n",
       "    .dataframe thead th {\n",
       "        text-align: right;\n",
       "    }\n",
       "</style>\n",
       "<table border=\"1\" class=\"dataframe\">\n",
       "  <thead>\n",
       "    <tr style=\"text-align: right;\">\n",
       "      <th></th>\n",
       "      <th>user_id</th>\n",
       "      <th>order_id</th>\n",
       "      <th>amount</th>\n",
       "      <th>amount_per_order</th>\n",
       "    </tr>\n",
       "  </thead>\n",
       "  <tbody>\n",
       "    <tr>\n",
       "      <th>6420</th>\n",
       "      <td>154559060124</td>\n",
       "      <td>114</td>\n",
       "      <td>686.000000</td>\n",
       "      <td>6.017544</td>\n",
       "    </tr>\n",
       "    <tr>\n",
       "      <th>612</th>\n",
       "      <td>104460666828</td>\n",
       "      <td>99</td>\n",
       "      <td>564.500000</td>\n",
       "      <td>5.702020</td>\n",
       "    </tr>\n",
       "    <tr>\n",
       "      <th>2340</th>\n",
       "      <td>119884693362</td>\n",
       "      <td>85</td>\n",
       "      <td>543.100000</td>\n",
       "      <td>6.389412</td>\n",
       "    </tr>\n",
       "    <tr>\n",
       "      <th>27076</th>\n",
       "      <td>32214575190</td>\n",
       "      <td>79</td>\n",
       "      <td>156.300000</td>\n",
       "      <td>1.978481</td>\n",
       "    </tr>\n",
       "    <tr>\n",
       "      <th>18279</th>\n",
       "      <td>247344644274</td>\n",
       "      <td>70</td>\n",
       "      <td>232.000000</td>\n",
       "      <td>3.314286</td>\n",
       "    </tr>\n",
       "  </tbody>\n",
       "</table>\n",
       "</div>"
      ],
      "text/plain": [
       "            user_id  order_id     amount  amount_per_order\n",
       "6420   154559060124       114 686.000000          6.017544\n",
       "612    104460666828        99 564.500000          5.702020\n",
       "2340   119884693362        85 543.100000          6.389412\n",
       "27076   32214575190        79 156.300000          1.978481\n",
       "18279  247344644274        70 232.000000          3.314286"
      ]
     },
     "execution_count": 130,
     "metadata": {},
     "output_type": "execute_result"
    }
   ],
   "source": [
    "df_breakfast = df[df.cuisine == \"Breakfast\"]\n",
    "df_groupedby_breakfast_user = df_breakfast.groupby('user_id').agg({'order_id': \"count\",\n",
    "                             'amount': 'sum'}).reset_index(drop=False)\n",
    "                             \n",
    "df_groupedby_breakfast_user['amount_per_order'] = df_groupedby_breakfast_user.amount/df_groupedby_breakfast_user.order_id\n",
    "\n",
    "df_groupedby_breakfast_user.sort_values(['order_id', 'amount'], \n",
    "                                ascending= [False, False], \n",
    "                                #inplace=True\n",
    "                                ).head()"
   ]
  },
  {
   "cell_type": "code",
   "execution_count": 50,
   "metadata": {},
   "outputs": [],
   "source": [
    "def has_ordered_once_breakfast(x):\n",
    "    if x==1:\n",
    "        return \"Yes\"\n",
    "    else:\n",
    "        return \"No\""
   ]
  },
  {
   "cell_type": "code",
   "execution_count": 51,
   "metadata": {},
   "outputs": [],
   "source": [
    "df_groupedby_breakfast_user['has_ordered_once_breakfast'] = df_groupedby_breakfast_user['order_id'].apply(lambda x: has_ordered_once_breakfast(x))"
   ]
  },
  {
   "cell_type": "code",
   "execution_count": 53,
   "metadata": {},
   "outputs": [
    {
     "data": {
      "text/html": [
       "<div>\n",
       "<style scoped>\n",
       "    .dataframe tbody tr th:only-of-type {\n",
       "        vertical-align: middle;\n",
       "    }\n",
       "\n",
       "    .dataframe tbody tr th {\n",
       "        vertical-align: top;\n",
       "    }\n",
       "\n",
       "    .dataframe thead th {\n",
       "        text-align: right;\n",
       "    }\n",
       "</style>\n",
       "<table border=\"1\" class=\"dataframe\">\n",
       "  <thead>\n",
       "    <tr style=\"text-align: right;\">\n",
       "      <th></th>\n",
       "      <th>has_ordered_once_breakfast</th>\n",
       "      <th>percentages</th>\n",
       "    </tr>\n",
       "  </thead>\n",
       "  <tbody>\n",
       "    <tr>\n",
       "      <th>0</th>\n",
       "      <td>No</td>\n",
       "      <td>0.581026</td>\n",
       "    </tr>\n",
       "    <tr>\n",
       "      <th>1</th>\n",
       "      <td>Yes</td>\n",
       "      <td>0.418974</td>\n",
       "    </tr>\n",
       "  </tbody>\n",
       "</table>\n",
       "</div>"
      ],
      "text/plain": [
       "  has_ordered_once_breakfast  percentages\n",
       "0                         No     0.581026\n",
       "1                        Yes     0.418974"
      ]
     },
     "execution_count": 53,
     "metadata": {},
     "output_type": "execute_result"
    }
   ],
   "source": [
    "df_has_ordered_once_breakfast  = pd.DataFrame(df_groupedby_breakfast_user.has_ordered_once_breakfast.value_counts()/df_groupedby_breakfast_user.shape[0]).reset_index().rename(columns={\"index\":'has_ordered_once_breakfast','has_ordered_once_breakfast': 'percentages'})\n",
    "df_has_ordered_once_breakfast"
   ]
  },
  {
   "cell_type": "code",
   "execution_count": null,
   "metadata": {},
   "outputs": [],
   "source": []
  }
 ],
 "metadata": {
  "kernelspec": {
   "display_name": "Python 3",
   "language": "python",
   "name": "python3"
  },
  "language_info": {
   "codemirror_mode": {
    "name": "ipython",
    "version": 3
   },
   "file_extension": ".py",
   "mimetype": "text/x-python",
   "name": "python",
   "nbconvert_exporter": "python",
   "pygments_lexer": "ipython3",
   "version": "3.7.9"
  },
  "orig_nbformat": 4,
  "vscode": {
   "interpreter": {
    "hash": "97faaf43b0a7fec3facccef3213145a70fe28cfcf87df3f9af6cab3c2eea3842"
   }
  }
 },
 "nbformat": 4,
 "nbformat_minor": 2
}
